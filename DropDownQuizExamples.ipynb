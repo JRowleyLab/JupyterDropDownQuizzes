{
 "cells": [
  {
   "cell_type": "code",
   "execution_count": 2,
   "id": "d31bd130-7b19-478c-a186-1bf5d55eac1f",
   "metadata": {
    "tags": []
   },
   "outputs": [
    {
     "name": "stdout",
     "output_type": "stream",
     "text": [
      "done installing required packages\n",
      "done installing quiz_module\n"
     ]
    }
   ],
   "source": [
    "#install the required packages\n",
    "import json\n",
    "import ipywidgets as widgets\n",
    "from IPython.display import display\n",
    "import random\n",
    "print(\"done installing required packages\")\n",
    "\n",
    "#install the module quiz_module.py\n",
    "from quiz_module import run_quiz\n",
    "print(\"done installing quiz_module\")"
   ]
  },
  {
   "cell_type": "markdown",
   "id": "922cfc55-9219-4fb2-ad8f-8d07c578a5ab",
   "metadata": {},
   "source": [
    "<div class=\"alert alert-block alert-info\">\n",
    "    <b>Use the dropdown menu to make appropriate matches</b>\n",
    "    </div>"
   ]
  },
  {
   "cell_type": "code",
   "execution_count": 7,
   "id": "6b4c601f-7e56-4fce-ae51-20ec4fd6e582",
   "metadata": {
    "tags": []
   },
   "outputs": [
    {
     "data": {
      "application/vnd.jupyter.widget-view+json": {
       "model_id": "3bf25fa2e82e470c84d04218ad98ea11",
       "version_major": 2,
       "version_minor": 0
      },
      "text/plain": [
       "VBox(children=(HBox(children=(Label(value='Flight'), Dropdown(options=('--Select--', 'Mr T', 'Superman', 'Batm…"
      ]
     },
     "metadata": {},
     "output_type": "display_data"
    }
   ],
   "source": [
    "#This randomizes the order of the possible answers.\n",
    "run_quiz(\"questions/TestingExample.json\", instant_feedback=False, shuffle_questions=False, shuffle_answers=True)"
   ]
  },
  {
   "cell_type": "code",
   "execution_count": 8,
   "id": "095d4bcd-2f3b-4d9b-96ef-a03f86865056",
   "metadata": {
    "tags": []
   },
   "outputs": [
    {
     "data": {
      "application/vnd.jupyter.widget-view+json": {
       "model_id": "1dd07718d1214efd904a60eafb965b37",
       "version_major": 2,
       "version_minor": 0
      },
      "text/plain": [
       "VBox(children=(HBox(children=(Label(value='Defeats all other superheros'), Dropdown(options=('--Select--', 'Sp…"
      ]
     },
     "metadata": {},
     "output_type": "display_data"
    }
   ],
   "source": [
    "#By changing the parameters, you can have it provide instant feedback and/or randomize the question order.\n",
    "run_quiz(\"questions/TestingExample.json\", instant_feedback=True, shuffle_questions=True, shuffle_answers=True)"
   ]
  },
  {
   "cell_type": "code",
   "execution_count": null,
   "id": "374550dc-6bf9-49c8-ad65-6500ef64e320",
   "metadata": {},
   "outputs": [],
   "source": []
  }
 ],
 "metadata": {
  "kernelspec": {
   "display_name": "conda_python3",
   "language": "python",
   "name": "conda_python3"
  },
  "language_info": {
   "codemirror_mode": {
    "name": "ipython",
    "version": 3
   },
   "file_extension": ".py",
   "mimetype": "text/x-python",
   "name": "python",
   "nbconvert_exporter": "python",
   "pygments_lexer": "ipython3",
   "version": "3.10.15"
  }
 },
 "nbformat": 4,
 "nbformat_minor": 5
}
